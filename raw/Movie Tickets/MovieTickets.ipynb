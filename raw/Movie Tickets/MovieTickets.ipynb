{
 "cells": [
  {
   "cell_type": "markdown",
   "metadata": {},
   "source": [
    "# Movie Tickets Visualization"
   ]
  },
  {
   "cell_type": "markdown",
   "metadata": {},
   "source": [
    "For the second week, I decided to use data I have personally collected. I'm a big fan of movies and I want to make sense of my data to get insights on my viewing preferences (and slightly curious as well on how much I've spent already on watching movies). My dataset is a bit of small so I teamed up with a friend to analyze our viewing preferences. It is still a bit small and I stopped collecting after August of last year, but for the sake of practice, I'll be proceeding anyway for the analysis.\n",
    "\n",
    "Disclaimer: I realized that the dataset is really small; thus the results will not generalize my friend and I's viewing preferences. I started collecting since April of 2016 and stopped at August of 2017. There is a possibility that I may have missed possible entries in the dataset (failed to take note or collect movie tickets) so the results does not really conclude anything. "
   ]
  },
  {
   "cell_type": "markdown",
   "metadata": {},
   "source": [
    "First, I'll load the necessary files and libraries."
   ]
  },
  {
   "cell_type": "code",
   "execution_count": 88,
   "metadata": {
    "collapsed": true
   },
   "outputs": [],
   "source": [
    "import numpy as np\n",
    "import pandas as pd\n",
    "import matplotlib\n",
    "import matplotlib.pyplot as plt\n",
    "import datetime\n",
    "import os\n",
    "import math\n",
    "import seaborn as sns\n",
    "import matplotlib.patches as mpatches\n",
    "from matplotlib.colors import LinearSegmentedColormap, ColorConverter\n",
    "import re\n",
    "import matplotlib.dates as dates\n",
    "from matplotlib.ticker import MaxNLocator\n",
    "%matplotlib inline\n",
    "\n",
    "pd.set_option('display.max_columns', None)"
   ]
  },
  {
   "cell_type": "code",
   "execution_count": 92,
   "metadata": {},
   "outputs": [
    {
     "data": {
      "text/plain": [
       "(27, 8)"
      ]
     },
     "execution_count": 92,
     "metadata": {},
     "output_type": "execute_result"
    }
   ],
   "source": [
    "path = os.getcwd() + '/movietickets.csv'\n",
    "movies = pd.read_csv(path, lineterminator='\\n', encoding='latin-1')\n",
    "movies.shape"
   ]
  },
  {
   "cell_type": "markdown",
   "metadata": {},
   "source": [
    "I've listed a few questions that I want answers from my dataset:\n",
    "1. How many movies have each person watched?\n",
    "2. What is the total cost spent on movie by each person?\n",
    "3. What months do users commonly watch movies in theaters?\n",
    "4. What are the different and similar movies watched by the users?\n",
    "5. What movie theaters are the most common?\n",
    "6. What time frames do users usually watch movies?"
   ]
  },
  {
   "cell_type": "markdown",
   "metadata": {},
   "source": [
    "### 1. How many movies have each person watched?"
   ]
  },
  {
   "cell_type": "markdown",
   "metadata": {},
   "source": [
    "The total number of movies watched aggregates the unique occurrence of a movie by a person. This does not sum up the number of tickets bought by the user.\n",
    "\n",
    "To get the total number of movies, we group the dataset by each person and get the movie count."
   ]
  },
  {
   "cell_type": "code",
   "execution_count": 93,
   "metadata": {},
   "outputs": [
    {
     "data": {
      "text/html": [
       "<div>\n",
       "<style>\n",
       "    .dataframe thead tr:only-child th {\n",
       "        text-align: right;\n",
       "    }\n",
       "\n",
       "    .dataframe thead th {\n",
       "        text-align: left;\n",
       "    }\n",
       "\n",
       "    .dataframe tbody tr th {\n",
       "        vertical-align: top;\n",
       "    }\n",
       "</style>\n",
       "<table border=\"1\" class=\"dataframe\">\n",
       "  <thead>\n",
       "    <tr style=\"text-align: right;\">\n",
       "      <th></th>\n",
       "      <th>User</th>\n",
       "      <th>Movie</th>\n",
       "    </tr>\n",
       "  </thead>\n",
       "  <tbody>\n",
       "    <tr>\n",
       "      <th>0</th>\n",
       "      <td>Bianca</td>\n",
       "      <td>11</td>\n",
       "    </tr>\n",
       "    <tr>\n",
       "      <th>1</th>\n",
       "      <td>Kharl</td>\n",
       "      <td>15</td>\n",
       "    </tr>\n",
       "  </tbody>\n",
       "</table>\n",
       "</div>"
      ],
      "text/plain": [
       "     User  Movie\n",
       "0  Bianca     11\n",
       "1   Kharl     15"
      ]
     },
     "execution_count": 93,
     "metadata": {},
     "output_type": "execute_result"
    }
   ],
   "source": [
    "num_movies_watched = movies.groupby('User').agg({'Movie': 'nunique'}).reset_index()\n",
    "num_movies_watched"
   ]
  },
  {
   "cell_type": "markdown",
   "metadata": {},
   "source": [
    "I've seen 11 movies in theaters during the timeframe of April 2016 - August 2017 while Kharl has seen 15 movies. This means that on average, Kharl watches a movie on theaters once a month (plus a rest month on this timeframe). "
   ]
  },
  {
   "cell_type": "markdown",
   "metadata": {},
   "source": [
    "### 2. What is the total cost spent on movie by each person?"
   ]
  },
  {
   "cell_type": "markdown",
   "metadata": {},
   "source": [
    "Now here's the most important part, how much did we spend on movies during this timeframe? Note that the total cost spent only counts one ticket per purchase. To get this, I simply added the total cost per person."
   ]
  },
  {
   "cell_type": "code",
   "execution_count": 94,
   "metadata": {},
   "outputs": [
    {
     "data": {
      "text/html": [
       "<div>\n",
       "<style>\n",
       "    .dataframe thead tr:only-child th {\n",
       "        text-align: right;\n",
       "    }\n",
       "\n",
       "    .dataframe thead th {\n",
       "        text-align: left;\n",
       "    }\n",
       "\n",
       "    .dataframe tbody tr th {\n",
       "        vertical-align: top;\n",
       "    }\n",
       "</style>\n",
       "<table border=\"1\" class=\"dataframe\">\n",
       "  <thead>\n",
       "    <tr style=\"text-align: right;\">\n",
       "      <th></th>\n",
       "      <th>User</th>\n",
       "      <th>Cost</th>\n",
       "    </tr>\n",
       "  </thead>\n",
       "  <tbody>\n",
       "    <tr>\n",
       "      <th>0</th>\n",
       "      <td>Bianca</td>\n",
       "      <td>2254</td>\n",
       "    </tr>\n",
       "    <tr>\n",
       "      <th>1</th>\n",
       "      <td>Kharl</td>\n",
       "      <td>3516</td>\n",
       "    </tr>\n",
       "  </tbody>\n",
       "</table>\n",
       "</div>"
      ],
      "text/plain": [
       "     User  Cost\n",
       "0  Bianca  2254\n",
       "1   Kharl  3516"
      ]
     },
     "execution_count": 94,
     "metadata": {},
     "output_type": "execute_result"
    }
   ],
   "source": [
    "total_cost = pd.DataFrame(movies.groupby(['User'])['Cost'].sum()).reset_index()\n",
    "total_cost"
   ]
  },
  {
   "cell_type": "markdown",
   "metadata": {},
   "source": [
    "If we divide the total cost to the number of movies, I spend P204 for each movie ticket, on average. Kharl, on the other hand, spends P234 for each movie ticket on average. That's a P30 difference in the prices, maybe switch to a new theater instead?"
   ]
  },
  {
   "cell_type": "markdown",
   "metadata": {},
   "source": [
    "### 3. What months do users commonly watch movies in theaters?"
   ]
  },
  {
   "cell_type": "markdown",
   "metadata": {},
   "source": [
    "What month do we usually watch movies? I'm guessing it's on May because most blockbuster movies release during the summer, specifically May. But let the data do the talking.\n",
    "\n",
    "First, let's clean the data and convert the Date column to the %d/%m/%y format using the following code."
   ]
  },
  {
   "cell_type": "code",
   "execution_count": 95,
   "metadata": {
    "collapsed": true
   },
   "outputs": [],
   "source": [
    "movies['Date'] = pd.to_datetime(movies['Date'], format='%d/%m/%Y')"
   ]
  },
  {
   "cell_type": "markdown",
   "metadata": {},
   "source": [
    "Then, we can split the Date column to get the months only."
   ]
  },
  {
   "cell_type": "code",
   "execution_count": 111,
   "metadata": {},
   "outputs": [],
   "source": [
    "movies['Year'] = movies['Date'].dt.year\n",
    "movies['Month'] = movies['Date'].dt.month"
   ]
  },
  {
   "cell_type": "markdown",
   "metadata": {},
   "source": [
    "Afterwards, we can now get the movie count per month per person."
   ]
  },
  {
   "cell_type": "code",
   "execution_count": 112,
   "metadata": {
    "collapsed": true
   },
   "outputs": [],
   "source": [
    "month_bianca = movies.loc[movies['User'] == 'Bianca']['Month']\n",
    "month_kharl = movies.loc[movies['User'] == 'Kharl']['Month']\n",
    "months = np.arange(12)\n",
    "months_label = ['Jan', 'Feb', 'Mar', 'Apr', 'May', 'Jun', 'Jul', 'Aug', 'Sep', 'Oc', 'Nov', 'Dec']"
   ]
  },
  {
   "cell_type": "markdown",
   "metadata": {},
   "source": [
    "I updated the data so that the months that do not appear on my data get 0 count."
   ]
  },
  {
   "cell_type": "code",
   "execution_count": 113,
   "metadata": {
    "collapsed": true
   },
   "outputs": [],
   "source": [
    "b = movies.loc[movies['User'] == 'Bianca']\n",
    "k = movies.loc[movies['User'] == 'Kharl']\n",
    "month_bianca_count = []\n",
    "month_kharl_count = []\n",
    "\n",
    "for i in range(1, 13):\n",
    "    month_bianca_count.append(len(b.loc[b['Month'] == i]))\n",
    "    month_kharl_count.append(len(k.loc[k['Month'] == i]))"
   ]
  },
  {
   "cell_type": "markdown",
   "metadata": {},
   "source": [
    "The first chart that came into mind was a simple multi bar chart comparing the number of movies we've seen per month. Below is the code used in plotting the bar chart."
   ]
  },
  {
   "cell_type": "code",
   "execution_count": 122,
   "metadata": {},
   "outputs": [
    {
     "data": {
      "image/png": "[encoded data removed]",
      "text/plain": [
       "<matplotlib.figure.Figure at 0x1e486f09320>"
      ]
     },
     "metadata": {},
     "output_type": "display_data"
    }
   ],
   "source": [
    "fig, ax = plt.subplots(figsize=(15,7))\n",
    "width = 0.35\n",
    "rects1 = ax.bar(months, month_bianca_count, width, color='orange', alpha=0.5)\n",
    "rects2 = ax.bar(months + width, month_kharl_count, width, color='green', alpha=0.5)\n",
    "\n",
    "# add some text for labels, title and axes ticks\n",
    "ax.set_ylabel('Number of movies watched')\n",
    "ax.set_xticks(months)\n",
    "ax.set_xticklabels(months_label)\n",
    "\n",
    "ax.legend((rects1[0], rects2[0]), ('Bianca', 'Kharl'))\n",
    "\n",
    "plt.savefig('bar_month_movies', dpi=300)\n",
    "plt.show()"
   ]
  },
  {
   "cell_type": "markdown",
   "metadata": {},
   "source": [
    "I was wrong! July was the month where I watched the most movies on theaters. Meanwhile, Kharl usually goes to theaters on June. I can't think of any possible explanation for this except that movies released in the middle of the year are usually blockbusters."
   ]
  },
  {
   "cell_type": "markdown",
   "metadata": {},
   "source": [
    "I made another chart in comparing the number of movies seen per month, but using a line chart. The code below shows how I plotted the line chart:"
   ]
  },
  {
   "cell_type": "code",
   "execution_count": 123,
   "metadata": {},
   "outputs": [
    {
     "data": {
      "image/png": "[encoded data removed]",
      "text/plain": [
       "<matplotlib.figure.Figure at 0x1e484a1ff60>"
      ]
     },
     "metadata": {},
     "output_type": "display_data"
    }
   ],
   "source": [
    "fig, ax = plt.subplots(figsize=(15,7))\n",
    "\n",
    "line1 = plt.plot(months, month_bianca_count, marker='o', color='orange', alpha=0.5, linewidth=3, markersize=10)\n",
    "line2 = plt.plot(months, month_kharl_count, marker='o', color='green', alpha=0.5, linewidth=3, markersize=10)\n",
    "ax.set_xticks(months)\n",
    "ax.set_xticklabels(months_label)\n",
    "ax.legend((line1[0], line2[0]), ('Bianca', 'Kharl'))\n",
    "plt.ylabel('Number of movies watched')\n",
    "\n",
    "plt.savefig('line_month_movies', dpi=300)\n",
    "plt.show()"
   ]
  },
  {
   "cell_type": "markdown",
   "metadata": {},
   "source": [
    "### 4. What are the different and similar movies watched by the users?"
   ]
  },
  {
   "cell_type": "markdown",
   "metadata": {},
   "source": [
    "For this part, I just want to know if we watch similar movies on cinemas. I used set intersection to get the common movies we have seen. "
   ]
  },
  {
   "cell_type": "code",
   "execution_count": 118,
   "metadata": {},
   "outputs": [
    {
     "data": {
      "text/plain": [
       "0    Baby Driver\n",
       "1     La La Land\n",
       "2          Moana\n",
       "dtype: object"
      ]
     },
     "execution_count": 118,
     "metadata": {},
     "output_type": "execute_result"
    }
   ],
   "source": [
    "# keep only matching rows\n",
    "len(movies['Movie'].value_counts())\n",
    "pd.Series(list(set(b['Movie']) & set(k['Movie'])))"
   ]
  },
  {
   "cell_type": "markdown",
   "metadata": {},
   "source": [
    "Out of 23 total movies we watched in theaters, only 3 movies are common. Out of the 3, we watched 2 movies on the same theater. I initially thought we'd have similar movies seen so to find that only 3 are common was surprising."
   ]
  },
  {
   "cell_type": "markdown",
   "metadata": {},
   "source": [
    "### 5. What movie theaters are the most common?"
   ]
  },
  {
   "cell_type": "markdown",
   "metadata": {},
   "source": [
    "I'm guessing Robinsons Place Manila would be the most common as Manila is the only place that is common to us. But I still want to know how frequent each person visits a certain theater."
   ]
  },
  {
   "cell_type": "code",
   "execution_count": 119,
   "metadata": {},
   "outputs": [
    {
     "data": {
      "text/plain": [
       "0    Robinsons Place Manila\n",
       "dtype: object"
      ]
     },
     "execution_count": 119,
     "metadata": {},
     "output_type": "execute_result"
    }
   ],
   "source": [
    "# keep only matching rows\n",
    "len(movies['Location'].value_counts())\n",
    "pd.Series(list(set(b['Location']) & set(k['Location'])))"
   ]
  },
  {
   "cell_type": "markdown",
   "metadata": {},
   "source": [
    "The above code confirms that Robinsons Place Manila is the most common. 10 movies were seen in this theater, where 2 are common."
   ]
  },
  {
   "cell_type": "markdown",
   "metadata": {},
   "source": [
    "Next is to find how frequent we visit a certain movie theater. Below is the code used to generate a bar chart for the movies I've seen."
   ]
  },
  {
   "cell_type": "code",
   "execution_count": 124,
   "metadata": {},
   "outputs": [
    {
     "data": {
      "image/png": "[encoded data removed]",
      "text/plain": [
       "<matplotlib.figure.Figure at 0x1e486f52048>"
      ]
     },
     "metadata": {},
     "output_type": "display_data"
    }
   ],
   "source": [
    "location_bianca = b['Location'].unique()\n",
    "location_bianca_count = b['Location'].value_counts()\n",
    "N = len(location_bianca)\n",
    "\n",
    "fig, ax = plt.subplots(figsize=(15,7))\n",
    "width = 0.35\n",
    "rects1 = ax.bar(np.arange(N), location_bianca_count, width, color='orange', alpha=0.5)\n",
    "\n",
    "# add some text for labels, title and axes ticks\n",
    "ax.set_ylabel('Number of movies watched')\n",
    "ax.set_xlabel('Location')\n",
    "ax.set_xticks(np.arange(N))\n",
    "ax.yaxis.set_major_locator(MaxNLocator(integer=True))\n",
    "ax.set_xticklabels(location_bianca)\n",
    "\n",
    "plt.savefig('bar_location_b_movies', dpi=300)\n",
    "plt.show()"
   ]
  },
  {
   "cell_type": "markdown",
   "metadata": {},
   "source": [
    "The bar chart looks even which means that I visit different movie theaters and not stick to one. I probably didn't have a favorite movie theater at that time. (I do now, though.)"
   ]
  },
  {
   "cell_type": "code",
   "execution_count": 125,
   "metadata": {
    "scrolled": true
   },
   "outputs": [
    {
     "data": {
      "image/png": "[encoded data removed]",
      "text/plain": [
       "<matplotlib.figure.Figure at 0x1e48638c438>"
      ]
     },
     "metadata": {},
     "output_type": "display_data"
    }
   ],
   "source": [
    "location_kharl = k['Location'].unique()\n",
    "location_kharl_count = k['Location'].value_counts()\n",
    "N = len(location_kharl)\n",
    "\n",
    "fig, ax = plt.subplots(figsize=(15,7))\n",
    "width = 0.35\n",
    "rects1 = ax.bar(np.arange(N), location_kharl_count, width, color='green', alpha=0.5)\n",
    "\n",
    "# add some text for labels, title and axes ticks\n",
    "ax.set_ylabel('Number of movies watched')\n",
    "ax.set_xlabel('Location')\n",
    "ax.set_xticks(np.arange(N))\n",
    "ax.yaxis.set_major_locator(MaxNLocator(integer=True))\n",
    "ax.set_xticklabels(location_kharl)\n",
    "\n",
    "plt.savefig('bar_location_k_movies', dpi=300)\n",
    "plt.show()"
   ]
  },
  {
   "cell_type": "markdown",
   "metadata": {},
   "source": [
    "It says differently for Kharl. His most visited movie theater is Robinsons Place Manila, with a close second at SM Bacoor. Those must be his two favorite movie theaters (or we could also say that those two are the most convenient movie theaters)."
   ]
  },
  {
   "cell_type": "markdown",
   "metadata": {},
   "source": [
    "That's it for today's challenge. I can't really conclude much about this because I have a very small dataset. But for this timeframe, I at least wanted to know my viewing preferences. The biggest takeaway I got here was the months that we usually watch movies. I wonder what's in June that caused a huge spike for Kharl's data. I was also surprised over the number of movies we've seen in common. 3 for me is a bit small; I guess we just have different preferences in movies."
   ]
  }
 ],
 "metadata": {
  "kernelspec": {
   "display_name": "Python 3",
   "language": "python",
   "name": "python3"
  },
  "language_info": {
   "codemirror_mode": {
    "name": "ipython",
    "version": 3
   },
   "file_extension": ".py",
   "mimetype": "text/x-python",
   "name": "python",
   "nbconvert_exporter": "python",
   "pygments_lexer": "ipython3",
   "version": "3.6.1"
  }
 },
 "nbformat": 4,
 "nbformat_minor": 2
}
